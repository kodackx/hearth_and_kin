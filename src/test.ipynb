{
 "cells": [
  {
   "cell_type": "code",
   "execution_count": 36,
   "metadata": {},
   "outputs": [],
   "source": [
    "from langchain.chains import LLMChain, ConversationChain\n",
    "from langchain.memory import ConversationBufferMemory\n",
    "from langchain.chat_models import ChatOpenAI\n",
    "from langchain.prompts import (\n",
    "    ChatPromptTemplate,\n",
    "    HumanMessagePromptTemplate,\n",
    "    MessagesPlaceholder,\n",
    ")\n",
    "from langchain.schema import SystemMessage\n",
    "from models.character import Character\n",
    "\n",
    "from models.message import MessageBase, MessageRead\n",
    "from core.config import logger\n",
    "\n",
    "################\n",
    "# OpenAI stuff #\n",
    "################\n",
    "# \"\"\"Generates a story based on the input string.\n",
    "#     Args:\n",
    "#         input (str): The input string to use as the story seed.\n",
    "#         max_length (int, optional): The maximum number of tokens to generate. Defaults to 50.\n",
    "#         temperature (float, optional): The temperature to use for generation. Defaults to 0.7.\n",
    "#     Returns:\n",
    "#         str: The generated story.\n",
    "#     \"\"\"\n",
    "\n",
    "prompt_narrator = \"\"\"\n",
    "You are the Narrator for Hearth and Kin, a game inspired from Dungeons and Dragons.\n",
    "You must guide the adventurers (users) through a story in the style of a tabletop roleplaying game. \n",
    "The adventurers will be able to make choices that affect the story, and you must react to their choices \n",
    "in a way that makes sense for the story. \n",
    "    \n",
    "Please describe in detail the locations, characters, and events that the adventurers encounter. \n",
    "\n",
    "Always take into account the following variables:\n",
    "- The adventurers' current location\n",
    "- The adventurers' current goal\n",
    "- The adventurers' current state, stats and skills as well as equipment\n",
    "- The adventurers' current relationships with other characters\n",
    "- The adventurers' current character sheet data\n",
    "\n",
    "Story so far:\n",
    "{chat_history}\n",
    "User input: {input}\n",
    "\n",
    "\"\"\"\n",
    "# parsed_system_prompt = prompt_narrator.format(character_data=character_data, location=location, goal=goal)\n",
    "parsed_system_prompt = prompt_narrator\n",
    "\n",
    "prompt = ChatPromptTemplate.from_messages(\n",
    "    [\n",
    "        SystemMessage(content=parsed_system_prompt),  # The persistent system prompt\n",
    "        MessagesPlaceholder(variable_name='chat_history'),  # Where the memory will be stored.\n",
    "        HumanMessagePromptTemplate.from_template('{input}'),  # Where the human input will injected\n",
    "    ]\n",
    ")\n",
    "# print('Prompt is: ' + str(prompt))"
   ]
  },
  {
   "cell_type": "code",
   "execution_count": 37,
   "metadata": {},
   "outputs": [],
   "source": [
    "def initialize_chain(prompt: ChatPromptTemplate, message_history: list[MessageRead]) -> LLMChain:\n",
    "    memory = ConversationBufferMemory(memory_key='chat_history', return_messages=True)\n",
    "\n",
    "    for message in message_history:\n",
    "        memory.chat_memory.add_user_message(message.message)\n",
    "        memory.chat_memory.add_ai_message(message.narrator_reply)\n",
    "\n",
    "    llm = ChatOpenAI(\n",
    "        model_name='gpt-4',  # type: ignore\n",
    "        # max_tokens=max_length,\n",
    "        temperature=0.5,\n",
    "        streaming=True\n",
    "    )\n",
    "    chat_llm_chain = LLMChain(\n",
    "        llm=llm,\n",
    "        prompt=prompt,\n",
    "        verbose=False,\n",
    "        memory=memory,\n",
    "    )\n",
    "\n",
    "    return chat_llm_chain\n",
    "\n",
    "\n",
    "chain = initialize_chain(prompt, [])\n",
    "\n",
    "char = Character(\n",
    "    username='t',\n",
    "    story_id=1,\n",
    "    character_id=1\n",
    ")"
   ]
  },
  {
   "cell_type": "code",
   "execution_count": 39,
   "metadata": {},
   "outputs": [
    {
     "name": "stdout",
     "output_type": "stream",
     "text": [
      "{'input': 'Hi!', 'chat_history': [HumanMessage(content='Hi!'), AIMessage(content='Greetings, brave adventurer! Welcome to Hearth and Kin. I am the Narrator, here to guide you through your epic journey. Please tell me, what is your name and what brings you to this realm?')], 'response': 'Greetings, brave adventurer! Welcome to Hearth and Kin. I am the Narrator, here to guide you through your epic journey. Please tell me, what is your name and what brings you to this realm?'}\n",
      "0.965273380279541\n"
     ]
    }
   ],
   "source": [
    "mes = MessageBase(\n",
    "    username=char.username,\n",
    "    story_id=char.story_id,\n",
    "    character_id=char.character_id,\n",
    "    message='Hi!'\n",
    ")\n",
    "import asyncio\n",
    "import time\n",
    "from langchain_core.output_parsers import StrOutputParser\n",
    "\n",
    "\n",
    "memory = ConversationBufferMemory(memory_key='chat_history', return_messages=True)\n",
    "#prompt = ChatPromptTemplate.from_template(\"tell me a joke about {input}\")\n",
    "model = ChatOpenAI(\n",
    "        model_name='gpt-4',  # type: ignore\n",
    "        # max_tokens=max_length,\n",
    "        temperature=0.5,\n",
    "        streaming=True\n",
    "    )\n",
    "parser = StrOutputParser()\n",
    "#chain = prompt | model | parser\n",
    "#chain = initialize_chain(prompt, [])\n",
    "chain = ConversationChain(\n",
    "    llm=ChatOpenAI(temperature=0),\n",
    "    prompt=prompt,\n",
    "    verbose=False,\n",
    "    memory=memory,\n",
    ")\n",
    "start = time.time()\n",
    "async for chuck in chain.astream({'input': mes.message}):\n",
    "    print(chuck, flush=True)\n",
    "    print(time.time() - start)\n"
   ]
  },
  {
   "cell_type": "code",
   "execution_count": 17,
   "metadata": {},
   "outputs": [
    {
     "data": {
      "text/plain": [
       "dict_keys(['input', 'chat_history', 'text'])"
      ]
     },
     "execution_count": 17,
     "metadata": {},
     "output_type": "execute_result"
    }
   ],
   "source": [
    "chuck.keys()"
   ]
  },
  {
   "cell_type": "code",
   "execution_count": null,
   "metadata": {},
   "outputs": [],
   "source": []
  }
 ],
 "metadata": {
  "kernelspec": {
   "display_name": "Python 3",
   "language": "python",
   "name": "python3"
  },
  "language_info": {
   "codemirror_mode": {
    "name": "ipython",
    "version": 3
   },
   "file_extension": ".py",
   "mimetype": "text/x-python",
   "name": "python",
   "nbconvert_exporter": "python",
   "pygments_lexer": "ipython3",
   "version": "3.12.0"
  }
 },
 "nbformat": 4,
 "nbformat_minor": 2
}
